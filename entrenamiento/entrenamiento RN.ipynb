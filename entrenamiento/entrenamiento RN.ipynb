{
 "cells": [
  {
   "cell_type": "markdown",
   "metadata": {},
   "source": [
    "# Predicting Dengue Fever Cases using weather data via Catboost Algorithm"
   ]
  },
  {
   "cell_type": "markdown",
   "metadata": {},
   "source": [
    "### Introduction\n",
    "\n",
    "This project aims to tackle the Dengue Fever Challenge posted on Driven Data.\n",
    "Five steps are included in this markdown:\n",
    "1. importing packages and reading data from source\n",
    "2. conducting basic EDA (Exploration Data Analysis)\n",
    "3. feature engineering\n",
    "4. train a model and test result simply using training data\n",
    "5. train the model again using all training data and do prediction for the 'submit' set"
   ]
  },
  {
   "cell_type": "markdown",
   "metadata": {},
   "source": [
    "### Step 1: importing packages and reading data from source "
   ]
  },
  {
   "cell_type": "code",
   "execution_count": 19,
   "metadata": {},
   "outputs": [],
   "source": [
    "# import packages\n",
    "import pandas as pd\n",
    "import numpy as np\n",
    "import os \n",
    "import re\n",
    "import matplotlib.pyplot as plt\n",
    "import seaborn as sns\n",
    "from sklearn.model_selection import train_test_split\n",
    "from sklearn.metrics import mean_absolute_error as MAE\n",
    "import keras\n",
    "from keras.models import Sequential\n",
    "from keras.layers import Dense, Dropout, BatchNormalization"
   ]
  },
  {
   "cell_type": "code",
   "execution_count": 20,
   "metadata": {},
   "outputs": [
    {
     "data": {
      "text/plain": [
       "(1456, 10)"
      ]
     },
     "execution_count": 20,
     "metadata": {},
     "output_type": "execute_result"
    }
   ],
   "source": [
    "# reading data\n",
    "path = os.getcwd() + \"/../Data/numero_de_casos/\"\n",
    "\n",
    "data = {}\n",
    "for file in os.listdir(path):\n",
    "    data[re.sub(\".csv\", \"\", file)] = pd.read_csv(path + file)\n",
    "\n",
    "training_X = data.pop(\"dengue_features_train\")\n",
    "training_Y = data.pop(\"dengue_labels_train\")\n",
    "submit_X = data.pop(\"dengue_features_test\")\n",
    "submit_Y = data.pop(\"submission_format\")\n",
    "\n",
    "# joining data for train_test_split in the later stage\n",
    "training = training_X.merge(training_Y, on=['city', 'year', 'weekofyear'], how='left')\n",
    "submit = submit_X.merge(submit_Y, on=['city', 'year', 'weekofyear'], how='left')\n",
    "\n",
    "training.shape"
   ]
  },
  {
   "cell_type": "markdown",
   "metadata": {},
   "source": [
    "### Step 3: feature engineering\n",
    "\n",
    "Based on the exploratory data analysis, it seems that the following steps could/should be done:\n",
    "1. generating datetime features\n",
    "2. filling NAs\n",
    "3. removing highly correlated features\n",
    "4. one-hot encoding for categorical features\n",
    "\n",
    "For step 2, since the NA values for each column are weather related data, it makes sense to fillna in groups of city and month.\n",
    "And as the NA values only accounts for less than 10% of the total data for each column, a naive method, median would be used."
   ]
  },
  {
   "cell_type": "code",
   "execution_count": 21,
   "metadata": {},
   "outputs": [],
   "source": [
    "# generating date_time features\n",
    "training['week_start_date'] = pd.to_datetime(training['week_start_date'], format='%Y-%m-%d')\n",
    "training['quarter'] = training.week_start_date.dt.quarter\n",
    "training['month'] = training.week_start_date.dt.month\n",
    "training['day'] = training.week_start_date.dt.day\n",
    "\n",
    "submit['week_start_date'] = pd.to_datetime(submit['week_start_date'], format='%Y-%m-%d')\n",
    "submit['quarter'] = submit.week_start_date.dt.quarter\n",
    "submit['month'] = submit.week_start_date.dt.month\n",
    "submit['day'] = submit.week_start_date.dt.day\n",
    "\n",
    "#training.columns()"
   ]
  },
  {
   "cell_type": "code",
   "execution_count": 22,
   "metadata": {
    "scrolled": true
   },
   "outputs": [
    {
     "data": {
      "text/html": [
       "<div>\n",
       "<style scoped>\n",
       "    .dataframe tbody tr th:only-of-type {\n",
       "        vertical-align: middle;\n",
       "    }\n",
       "\n",
       "    .dataframe tbody tr th {\n",
       "        vertical-align: top;\n",
       "    }\n",
       "\n",
       "    .dataframe thead th {\n",
       "        text-align: right;\n",
       "    }\n",
       "</style>\n",
       "<table border=\"1\" class=\"dataframe\">\n",
       "  <thead>\n",
       "    <tr style=\"text-align: right;\">\n",
       "      <th></th>\n",
       "      <th>city</th>\n",
       "      <th>month</th>\n",
       "      <th>year</th>\n",
       "      <th>weekofyear</th>\n",
       "      <th>week_start_date</th>\n",
       "      <th>humidity_percent</th>\n",
       "      <th>avg_temp_c</th>\n",
       "      <th>max_temp_c</th>\n",
       "      <th>min_temp_c</th>\n",
       "      <th>precip_mm</th>\n",
       "      <th>total_cases</th>\n",
       "      <th>quarter</th>\n",
       "      <th>day</th>\n",
       "    </tr>\n",
       "  </thead>\n",
       "  <tbody>\n",
       "    <tr>\n",
       "      <th>962</th>\n",
       "      <td>iq</td>\n",
       "      <td>1</td>\n",
       "      <td>2001</td>\n",
       "      <td>1</td>\n",
       "      <td>2001-01-01</td>\n",
       "      <td>94.955714</td>\n",
       "      <td>27.333333</td>\n",
       "      <td>33.3</td>\n",
       "      <td>21.8</td>\n",
       "      <td>38.9</td>\n",
       "      <td>0</td>\n",
       "      <td>1</td>\n",
       "      <td>1</td>\n",
       "    </tr>\n",
       "    <tr>\n",
       "      <th>963</th>\n",
       "      <td>iq</td>\n",
       "      <td>1</td>\n",
       "      <td>2001</td>\n",
       "      <td>2</td>\n",
       "      <td>2001-01-08</td>\n",
       "      <td>82.347143</td>\n",
       "      <td>27.000000</td>\n",
       "      <td>33.2</td>\n",
       "      <td>20.7</td>\n",
       "      <td>59.9</td>\n",
       "      <td>0</td>\n",
       "      <td>1</td>\n",
       "      <td>8</td>\n",
       "    </tr>\n",
       "    <tr>\n",
       "      <th>964</th>\n",
       "      <td>iq</td>\n",
       "      <td>1</td>\n",
       "      <td>2001</td>\n",
       "      <td>3</td>\n",
       "      <td>2001-01-15</td>\n",
       "      <td>84.175714</td>\n",
       "      <td>27.050000</td>\n",
       "      <td>33.0</td>\n",
       "      <td>20.5</td>\n",
       "      <td>52.0</td>\n",
       "      <td>0</td>\n",
       "      <td>1</td>\n",
       "      <td>15</td>\n",
       "    </tr>\n",
       "    <tr>\n",
       "      <th>965</th>\n",
       "      <td>iq</td>\n",
       "      <td>1</td>\n",
       "      <td>2001</td>\n",
       "      <td>4</td>\n",
       "      <td>2001-01-22</td>\n",
       "      <td>94.057143</td>\n",
       "      <td>25.716667</td>\n",
       "      <td>31.2</td>\n",
       "      <td>20.0</td>\n",
       "      <td>166.9</td>\n",
       "      <td>0</td>\n",
       "      <td>1</td>\n",
       "      <td>22</td>\n",
       "    </tr>\n",
       "    <tr>\n",
       "      <th>966</th>\n",
       "      <td>iq</td>\n",
       "      <td>1</td>\n",
       "      <td>2001</td>\n",
       "      <td>5</td>\n",
       "      <td>2001-01-29</td>\n",
       "      <td>95.407143</td>\n",
       "      <td>26.433333</td>\n",
       "      <td>33.0</td>\n",
       "      <td>20.0</td>\n",
       "      <td>147.8</td>\n",
       "      <td>0</td>\n",
       "      <td>1</td>\n",
       "      <td>29</td>\n",
       "    </tr>\n",
       "  </tbody>\n",
       "</table>\n",
       "</div>"
      ],
      "text/plain": [
       "    city  month  year  weekofyear week_start_date  humidity_percent  \\\n",
       "962   iq      1  2001           1      2001-01-01         94.955714   \n",
       "963   iq      1  2001           2      2001-01-08         82.347143   \n",
       "964   iq      1  2001           3      2001-01-15         84.175714   \n",
       "965   iq      1  2001           4      2001-01-22         94.057143   \n",
       "966   iq      1  2001           5      2001-01-29         95.407143   \n",
       "\n",
       "     avg_temp_c  max_temp_c  min_temp_c  precip_mm  total_cases  quarter  day  \n",
       "962   27.333333        33.3        21.8       38.9            0        1    1  \n",
       "963   27.000000        33.2        20.7       59.9            0        1    8  \n",
       "964   27.050000        33.0        20.5       52.0            0        1   15  \n",
       "965   25.716667        31.2        20.0      166.9            0        1   22  \n",
       "966   26.433333        33.0        20.0      147.8            0        1   29  "
      ]
     },
     "execution_count": 22,
     "metadata": {},
     "output_type": "execute_result"
    }
   ],
   "source": [
    "# fillna via naive method, median, grouped by city and month\n",
    "training = training.groupby(['city', 'month']).apply(lambda x: x.fillna(x.median())).reset_index(level=[0,1])\n",
    "submit = submit.groupby(['city', 'month']).apply(lambda x: x.fillna(x.median())).reset_index(level=[0,1])\n",
    "\n",
    "training.head()\n"
   ]
  },
  {
   "cell_type": "code",
   "execution_count": 24,
   "metadata": {},
   "outputs": [],
   "source": [
    "# one-hot encoding for categorical data: city\n",
    "training = pd.concat([pd.get_dummies(training.city).astype(int), training], axis=1)\n",
    "submit = pd.concat([pd.get_dummies(submit.city).astype(int), submit], axis=1)"
   ]
  },
  {
   "cell_type": "markdown",
   "metadata": {},
   "source": [
    "### Step 4: Build Model"
   ]
  },
  {
   "cell_type": "code",
   "execution_count": 25,
   "metadata": {},
   "outputs": [],
   "source": [
    "# drop week_start_date before training\n",
    "training.drop(['week_start_date'], axis=1, inplace=True)\n",
    "submit.drop(['week_start_date'], axis=1, inplace=True)"
   ]
  },
  {
   "cell_type": "code",
   "execution_count": 27,
   "metadata": {},
   "outputs": [],
   "source": [
    "# Build the NN model\n",
    "model = Sequential()\n",
    "model.add(Dense(46, input_dim=12, activation='relu'))\n",
    "model.add(Dropout(0.2))\n",
    "model.add(Dense(92, activation='relu'))\n",
    "model.add(Dropout(0.2))\n",
    "model.add(Dense(46, activation='relu'))\n",
    "model.add(Dropout(0.2))\n",
    "model.add(Dense(23, activation='relu'))\n",
    "model.add(Dropout(0.2))\n",
    "model.add(Dense(1))\n",
    "model.compile(optimizer='adam', loss='mean_absolute_error')"
   ]
  },
  {
   "cell_type": "markdown",
   "metadata": {},
   "source": [
    "### Step 5: train the model again using all training data and do prediction for the 'submit' set"
   ]
  },
  {
   "cell_type": "code",
   "execution_count": 31,
   "metadata": {},
   "outputs": [],
   "source": [
    "# train test split for train, and cv\n",
    "X_train, X_cv, y_train, y_cv = train_test_split(training.drop(['total_cases'], axis=1), training.total_cases, test_size=0.3, stratify=training.city, random_state=64)\n",
    "X_train.drop('city', axis=1, inplace=True)\n",
    "X_cv.drop('city', axis=1, inplace=True)"
   ]
  },
  {
   "cell_type": "code",
   "execution_count": 32,
   "metadata": {},
   "outputs": [],
   "source": [
    "# build model\n",
    "submission_model = model.fit(X_train, y_train, validation_data=(X_cv, y_cv), batch_size=25, epochs=600, shuffle=True, verbose=False)"
   ]
  },
  {
   "cell_type": "code",
   "execution_count": 33,
   "metadata": {},
   "outputs": [
    {
     "data": {
      "image/png": "[encoded data removed]",
      "text/plain": [
       "<Figure size 640x480 with 1 Axes>"
      ]
     },
     "metadata": {},
     "output_type": "display_data"
    }
   ],
   "source": [
    "# Inspect loss over epochs\n",
    "loss = submission_model.history['loss']\n",
    "val_loss = submission_model.history['val_loss']\n",
    "epochs = range(len(loss))\n",
    "plt.plot(epochs, loss, 'bo', label='Training set loss')\n",
    "plt.plot(epochs, val_loss, 'b', label='Validation set loss')\n",
    "plt.title('Training and Validation loss')\n",
    "plt.legend()\n",
    "plt.show()\n",
    "model.save(\"./../modelos/modelo_dengue_reducido.keras\")"
   ]
  },
  {
   "cell_type": "code",
   "execution_count": 34,
   "metadata": {},
   "outputs": [
    {
     "name": "stdout",
     "output_type": "stream",
     "text": [
      "13/13 [==============================] - 0s 1ms/step\n",
      "Mean Absolute Error: 12.203308694064617\n"
     ]
    }
   ],
   "source": [
    "# do prediction on the 'submit' data and save as csv for final submission\n",
    "submit_cases_prediction = model.predict(submit.drop(['total_cases', 'city'], axis=1))\n",
    "submit_Y.total_cases = submit_cases_prediction.astype(int)\n",
    "print('Mean Absolute Error:', MAE( submit['total_cases'], submit_cases_prediction))"
   ]
  }
 ],
 "metadata": {
  "kernelspec": {
   "display_name": "Python 3 (ipykernel)",
   "language": "python",
   "name": "python3"
  },
  "language_info": {
   "codemirror_mode": {
    "name": "ipython",
    "version": 3
   },
   "file_extension": ".py",
   "mimetype": "text/x-python",
   "name": "python",
   "nbconvert_exporter": "python",
   "pygments_lexer": "ipython3",
   "version": "3.10.5"
  }
 },
 "nbformat": 4,
 "nbformat_minor": 2
}
