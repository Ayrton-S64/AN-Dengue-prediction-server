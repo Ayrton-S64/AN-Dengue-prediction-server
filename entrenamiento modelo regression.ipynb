{
 "cells": [
  {
   "cell_type": "markdown",
   "id": "791fb550",
   "metadata": {
    "papermill": {
     "duration": 0.007045,
     "end_time": "2023-04-18T17:23:03.010980",
     "exception": false,
     "start_time": "2023-04-18T17:23:03.003935",
     "status": "completed"
    },
    "tags": []
   },
   "source": [
    "# Generating MAP@K Submissions\n",
    "\n",
    "Unlike many multiclass classification metrics, MAP@K permits the evaluation of multiple predictions for a single row.\n",
    "It's often used for reccomendation systems, where multiple results are recommended, but also makes sense for our vector\n",
    "borne disease problem, as narrowing possible diagnoses down to 2 or 3 might allow us to efficiently run additional tests\n",
    "to arrive at a final diagnosis.\n",
    "\n",
    "Under MAP@K if a \"relevant\" result (in our case, the true prognosis) is surfaced anywhere in the top K predictions (in our case, 3)\n",
    "the score will be > 0. The earlier the true prognosis is surfaced, the higher the score will be.\n",
    "\n",
    "In this notebook we use a simple LogisticRegression model to predict probabilities for all possible prognoses, and then include the\n",
    "top 3 most probable prognoses as our predictions. This is just one way to generate predictions for MAP@K, and not all the steps are\n",
    "stricly necessary (e.g. you _can_ submit more or less than 3 predictions, but we always surface 3 here to make it clear that's the\n",
    "maximum number that will be considered in scoring).\n",
    "\n",
    "source: https://www.kaggle.com/code/wlifferth/generating-map-k-predictions"
   ]
  },
  {
   "cell_type": "markdown",
   "id": "98c0f893",
   "metadata": {
    "execution": {
     "iopub.execute_input": "2023-04-16T20:17:31.225328Z",
     "iopub.status.busy": "2023-04-16T20:17:31.224900Z",
     "iopub.status.idle": "2023-04-16T20:17:31.230398Z",
     "shell.execute_reply": "2023-04-16T20:17:31.229314Z",
     "shell.execute_reply.started": "2023-04-16T20:17:31.225287Z"
    },
    "papermill": {
     "duration": 0.005654,
     "end_time": "2023-04-18T17:23:03.022802",
     "exception": false,
     "start_time": "2023-04-18T17:23:03.017148",
     "status": "completed"
    },
    "tags": []
   },
   "source": [
    "# Set Up "
   ]
  },
  {
   "cell_type": "code",
   "execution_count": 369,
   "id": "33f27465",
   "metadata": {
    "_cell_guid": "b1076dfc-b9ad-4769-8c92-a6c4dae69d19",
    "_uuid": "8f2839f25d086af736a60e9eeb907d3b93b6e0e5",
    "execution": {
     "iopub.execute_input": "2023-04-18T17:23:03.036437Z",
     "iopub.status.busy": "2023-04-18T17:23:03.035716Z",
     "iopub.status.idle": "2023-04-18T17:23:04.122336Z",
     "shell.execute_reply": "2023-04-18T17:23:04.121218Z"
    },
    "papermill": {
     "duration": 1.096635,
     "end_time": "2023-04-18T17:23:04.125232",
     "exception": false,
     "start_time": "2023-04-18T17:23:03.028597",
     "status": "completed"
    },
    "tags": []
   },
   "outputs": [],
   "source": [
    "from sklearn.linear_model import LogisticRegression\n",
    "from sklearn.preprocessing import OrdinalEncoder\n",
    "from sklearn.model_selection import train_test_split\n",
    "import joblib\n",
    "import pandas as pd\n",
    "import numpy as np"
   ]
  },
  {
   "cell_type": "code",
   "execution_count": 370,
   "id": "e93b4f73",
   "metadata": {
    "execution": {
     "iopub.execute_input": "2023-04-18T17:23:04.138394Z",
     "iopub.status.busy": "2023-04-18T17:23:04.137995Z",
     "iopub.status.idle": "2023-04-18T17:23:04.206996Z",
     "shell.execute_reply": "2023-04-18T17:23:04.205976Z"
    },
    "papermill": {
     "duration": 0.078681,
     "end_time": "2023-04-18T17:23:04.209579",
     "exception": false,
     "start_time": "2023-04-18T17:23:04.130898",
     "status": "completed"
    },
    "tags": []
   },
   "outputs": [
    {
     "data": {
      "text/html": [
       "<div>\n",
       "<style scoped>\n",
       "    .dataframe tbody tr th:only-of-type {\n",
       "        vertical-align: middle;\n",
       "    }\n",
       "\n",
       "    .dataframe tbody tr th {\n",
       "        vertical-align: top;\n",
       "    }\n",
       "\n",
       "    .dataframe thead th {\n",
       "        text-align: right;\n",
       "    }\n",
       "</style>\n",
       "<table border=\"1\" class=\"dataframe\">\n",
       "  <thead>\n",
       "    <tr style=\"text-align: right;\">\n",
       "      <th></th>\n",
       "      <th>id</th>\n",
       "      <th>sudden_fever</th>\n",
       "      <th>headache</th>\n",
       "      <th>mouth_bleed</th>\n",
       "      <th>nose_bleed</th>\n",
       "      <th>muscle_pain</th>\n",
       "      <th>joint_pain</th>\n",
       "      <th>vomiting</th>\n",
       "      <th>rash</th>\n",
       "      <th>diarrhea</th>\n",
       "      <th>...</th>\n",
       "      <th>breathing_restriction</th>\n",
       "      <th>toe_inflammation</th>\n",
       "      <th>finger_inflammation</th>\n",
       "      <th>lips_irritation</th>\n",
       "      <th>itchiness</th>\n",
       "      <th>ulcers</th>\n",
       "      <th>toenail_loss</th>\n",
       "      <th>speech_problem</th>\n",
       "      <th>bullseye_rash</th>\n",
       "      <th>prognosis</th>\n",
       "    </tr>\n",
       "  </thead>\n",
       "  <tbody>\n",
       "    <tr>\n",
       "      <th>0</th>\n",
       "      <td>0</td>\n",
       "      <td>1</td>\n",
       "      <td>1</td>\n",
       "      <td>0</td>\n",
       "      <td>1</td>\n",
       "      <td>1</td>\n",
       "      <td>1</td>\n",
       "      <td>1</td>\n",
       "      <td>0</td>\n",
       "      <td>1</td>\n",
       "      <td>...</td>\n",
       "      <td>0</td>\n",
       "      <td>0</td>\n",
       "      <td>0</td>\n",
       "      <td>0</td>\n",
       "      <td>0</td>\n",
       "      <td>0</td>\n",
       "      <td>0</td>\n",
       "      <td>0</td>\n",
       "      <td>0</td>\n",
       "      <td>Lyme_disease</td>\n",
       "    </tr>\n",
       "    <tr>\n",
       "      <th>1</th>\n",
       "      <td>1</td>\n",
       "      <td>0</td>\n",
       "      <td>0</td>\n",
       "      <td>0</td>\n",
       "      <td>0</td>\n",
       "      <td>0</td>\n",
       "      <td>0</td>\n",
       "      <td>1</td>\n",
       "      <td>0</td>\n",
       "      <td>1</td>\n",
       "      <td>...</td>\n",
       "      <td>0</td>\n",
       "      <td>0</td>\n",
       "      <td>0</td>\n",
       "      <td>0</td>\n",
       "      <td>0</td>\n",
       "      <td>0</td>\n",
       "      <td>0</td>\n",
       "      <td>0</td>\n",
       "      <td>0</td>\n",
       "      <td>Tungiasis</td>\n",
       "    </tr>\n",
       "    <tr>\n",
       "      <th>2</th>\n",
       "      <td>2</td>\n",
       "      <td>0</td>\n",
       "      <td>1</td>\n",
       "      <td>1</td>\n",
       "      <td>1</td>\n",
       "      <td>0</td>\n",
       "      <td>1</td>\n",
       "      <td>1</td>\n",
       "      <td>1</td>\n",
       "      <td>1</td>\n",
       "      <td>...</td>\n",
       "      <td>1</td>\n",
       "      <td>1</td>\n",
       "      <td>1</td>\n",
       "      <td>1</td>\n",
       "      <td>1</td>\n",
       "      <td>0</td>\n",
       "      <td>1</td>\n",
       "      <td>1</td>\n",
       "      <td>1</td>\n",
       "      <td>Lyme_disease</td>\n",
       "    </tr>\n",
       "    <tr>\n",
       "      <th>3</th>\n",
       "      <td>3</td>\n",
       "      <td>0</td>\n",
       "      <td>0</td>\n",
       "      <td>1</td>\n",
       "      <td>1</td>\n",
       "      <td>1</td>\n",
       "      <td>1</td>\n",
       "      <td>0</td>\n",
       "      <td>1</td>\n",
       "      <td>0</td>\n",
       "      <td>...</td>\n",
       "      <td>0</td>\n",
       "      <td>0</td>\n",
       "      <td>0</td>\n",
       "      <td>0</td>\n",
       "      <td>0</td>\n",
       "      <td>0</td>\n",
       "      <td>0</td>\n",
       "      <td>0</td>\n",
       "      <td>0</td>\n",
       "      <td>Zika</td>\n",
       "    </tr>\n",
       "    <tr>\n",
       "      <th>4</th>\n",
       "      <td>4</td>\n",
       "      <td>0</td>\n",
       "      <td>0</td>\n",
       "      <td>0</td>\n",
       "      <td>0</td>\n",
       "      <td>0</td>\n",
       "      <td>0</td>\n",
       "      <td>0</td>\n",
       "      <td>0</td>\n",
       "      <td>1</td>\n",
       "      <td>...</td>\n",
       "      <td>0</td>\n",
       "      <td>1</td>\n",
       "      <td>0</td>\n",
       "      <td>0</td>\n",
       "      <td>1</td>\n",
       "      <td>1</td>\n",
       "      <td>1</td>\n",
       "      <td>0</td>\n",
       "      <td>0</td>\n",
       "      <td>Rift_Valley_fever</td>\n",
       "    </tr>\n",
       "  </tbody>\n",
       "</table>\n",
       "<p>5 rows × 66 columns</p>\n",
       "</div>"
      ],
      "text/plain": [
       "   id  sudden_fever  headache  mouth_bleed  nose_bleed  muscle_pain  \\\n",
       "0   0             1         1            0           1            1   \n",
       "1   1             0         0            0           0            0   \n",
       "2   2             0         1            1           1            0   \n",
       "3   3             0         0            1           1            1   \n",
       "4   4             0         0            0           0            0   \n",
       "\n",
       "   joint_pain  vomiting  rash  diarrhea  ...  breathing_restriction  \\\n",
       "0           1         1     0         1  ...                      0   \n",
       "1           0         1     0         1  ...                      0   \n",
       "2           1         1     1         1  ...                      1   \n",
       "3           1         0     1         0  ...                      0   \n",
       "4           0         0     0         1  ...                      0   \n",
       "\n",
       "   toe_inflammation  finger_inflammation  lips_irritation  itchiness  ulcers  \\\n",
       "0                 0                    0                0          0       0   \n",
       "1                 0                    0                0          0       0   \n",
       "2                 1                    1                1          1       0   \n",
       "3                 0                    0                0          0       0   \n",
       "4                 1                    0                0          1       1   \n",
       "\n",
       "   toenail_loss  speech_problem  bullseye_rash          prognosis  \n",
       "0             0               0              0       Lyme_disease  \n",
       "1             0               0              0          Tungiasis  \n",
       "2             1               1              1       Lyme_disease  \n",
       "3             0               0              0               Zika  \n",
       "4             1               0              0  Rift_Valley_fever  \n",
       "\n",
       "[5 rows x 66 columns]"
      ]
     },
     "execution_count": 370,
     "metadata": {},
     "output_type": "execute_result"
    }
   ],
   "source": [
    "train_df = pd.read_csv('./Data/enfermedades/train.csv')\n",
    "train_df.head()"
   ]
  },
  {
   "cell_type": "code",
   "execution_count": 371,
   "id": "fe088150",
   "metadata": {
    "execution": {
     "iopub.execute_input": "2023-04-18T17:23:04.223792Z",
     "iopub.status.busy": "2023-04-18T17:23:04.223339Z",
     "iopub.status.idle": "2023-04-18T17:23:04.238189Z",
     "shell.execute_reply": "2023-04-18T17:23:04.236912Z"
    },
    "papermill": {
     "duration": 0.024803,
     "end_time": "2023-04-18T17:23:04.240419",
     "exception": false,
     "start_time": "2023-04-18T17:23:04.215616",
     "status": "completed"
    },
    "tags": []
   },
   "outputs": [
    {
     "data": {
      "text/plain": [
       "0     3.0\n",
       "1     7.0\n",
       "2     3.0\n",
       "3    10.0\n",
       "4     6.0\n",
       "5     3.0\n",
       "6     8.0\n",
       "7     7.0\n",
       "8     4.0\n",
       "9     0.0\n",
       "Name: prognosis, dtype: float64"
      ]
     },
     "execution_count": 371,
     "metadata": {},
     "output_type": "execute_result"
    }
   ],
   "source": [
    "# Encoder our prognosis labels as integers for easier decoding later\n",
    "enc = OrdinalEncoder()\n",
    "train_df['prognosis'] = enc.fit_transform(train_df[['prognosis']])\n",
    "train_df['prognosis'][:10] # Note the values here are now ordinal (floats)"
   ]
  },
  {
   "cell_type": "code",
   "execution_count": 372,
   "id": "0c32ae3d",
   "metadata": {
    "execution": {
     "iopub.execute_input": "2023-04-18T17:23:04.255676Z",
     "iopub.status.busy": "2023-04-18T17:23:04.255275Z",
     "iopub.status.idle": "2023-04-18T17:23:04.267248Z",
     "shell.execute_reply": "2023-04-18T17:23:04.266037Z"
    },
    "papermill": {
     "duration": 0.02286,
     "end_time": "2023-04-18T17:23:04.270011",
     "exception": false,
     "start_time": "2023-04-18T17:23:04.247151",
     "status": "completed"
    },
    "tags": []
   },
   "outputs": [],
   "source": [
    "# We split out our own test set so we can calculate an example MAP@K\n",
    "X_train, X_test, y_train, y_test = train_test_split(train_df.drop('prognosis', axis=1), train_df['prognosis'], random_state=20)"
   ]
  },
  {
   "cell_type": "markdown",
   "id": "fd00f9af",
   "metadata": {
    "papermill": {
     "duration": 0.005836,
     "end_time": "2023-04-18T17:23:04.281848",
     "exception": false,
     "start_time": "2023-04-18T17:23:04.276012",
     "status": "completed"
    },
    "tags": []
   },
   "source": [
    "# Training a LogisticRegression model and predicting probabilities"
   ]
  },
  {
   "cell_type": "code",
   "execution_count": 373,
   "id": "3685339b",
   "metadata": {
    "execution": {
     "iopub.execute_input": "2023-04-18T17:23:04.295451Z",
     "iopub.status.busy": "2023-04-18T17:23:04.295016Z",
     "iopub.status.idle": "2023-04-18T17:23:04.507899Z",
     "shell.execute_reply": "2023-04-18T17:23:04.506215Z"
    },
    "papermill": {
     "duration": 0.22489,
     "end_time": "2023-04-18T17:23:04.512604",
     "exception": false,
     "start_time": "2023-04-18T17:23:04.287714",
     "status": "completed"
    },
    "tags": []
   },
   "outputs": [
    {
     "name": "stderr",
     "output_type": "stream",
     "text": [
      "c:\\Users\\ayrto\\AppData\\Local\\Programs\\Python\\Python310\\lib\\site-packages\\sklearn\\linear_model\\_logistic.py:460: ConvergenceWarning: lbfgs failed to converge (status=1):\n",
      "STOP: TOTAL NO. of ITERATIONS REACHED LIMIT.\n",
      "\n",
      "Increase the number of iterations (max_iter) or scale the data as shown in:\n",
      "    https://scikit-learn.org/stable/modules/preprocessing.html\n",
      "Please also refer to the documentation for alternative solver options:\n",
      "    https://scikit-learn.org/stable/modules/linear_model.html#logistic-regression\n",
      "  n_iter_i = _check_optimize_result(\n"
     ]
    }
   ],
   "source": [
    "# We'll train a simple LogisticRegression model on our training split\n",
    "lr_clf = LogisticRegression()\n",
    "lr_clf.fit(X_train, y_train)\n",
    "\n",
    "# Normally lr_clf.predict would just predict the most likely prognosis, but with predict_proba we can get probabilities for all possible prognoses.\n",
    "predictions = lr_clf.predict_proba(X_test)"
   ]
  },
  {
   "cell_type": "markdown",
   "id": "0d6674d4",
   "metadata": {
    "papermill": {
     "duration": 0.014869,
     "end_time": "2023-04-18T17:23:04.544163",
     "exception": false,
     "start_time": "2023-04-18T17:23:04.529294",
     "status": "completed"
    },
    "tags": []
   },
   "source": [
    "# Generating Top K for a single row"
   ]
  },
  {
   "cell_type": "code",
   "execution_count": 374,
   "id": "d94c59b9",
   "metadata": {
    "execution": {
     "iopub.execute_input": "2023-04-18T17:23:04.579464Z",
     "iopub.status.busy": "2023-04-18T17:23:04.578729Z",
     "iopub.status.idle": "2023-04-18T17:23:04.589891Z",
     "shell.execute_reply": "2023-04-18T17:23:04.588108Z"
    },
    "papermill": {
     "duration": 0.035736,
     "end_time": "2023-04-18T17:23:04.596465",
     "exception": false,
     "start_time": "2023-04-18T17:23:04.560729",
     "status": "completed"
    },
    "tags": []
   },
   "outputs": [
    {
     "name": "stdout",
     "output_type": "stream",
     "text": [
      "Output of predict_proba:\n",
      "[0.01527665 0.0524777  0.23635498 0.00236329 0.03374978 0.04641326\n",
      " 0.1760735  0.0096713  0.00691568 0.16684116 0.2538627 ]\n"
     ]
    }
   ],
   "source": [
    "# Lets take a look at getting our top 3 prognoses for just a single prediction first\n",
    "print(\"Output of predict_proba:\")\n",
    "print(predictions[0])"
   ]
  },
  {
   "cell_type": "code",
   "execution_count": 375,
   "id": "d031954a",
   "metadata": {
    "execution": {
     "iopub.execute_input": "2023-04-18T17:23:04.620749Z",
     "iopub.status.busy": "2023-04-18T17:23:04.620337Z",
     "iopub.status.idle": "2023-04-18T17:23:04.626301Z",
     "shell.execute_reply": "2023-04-18T17:23:04.625360Z"
    },
    "papermill": {
     "duration": 0.015995,
     "end_time": "2023-04-18T17:23:04.628797",
     "exception": false,
     "start_time": "2023-04-18T17:23:04.612802",
     "status": "completed"
    },
    "tags": []
   },
   "outputs": [
    {
     "name": "stdout",
     "output_type": "stream",
     "text": [
      "Indices sorted by probabilities:\n",
      "[10  2  6  9  1  5  4  0  7  8  3]\n"
     ]
    }
   ],
   "source": [
    "# We can get the indices of the highest probabilities with argsort\n",
    "sorted_prediction_ids = np.argsort(-predictions[0]) # Note argsort sorts in ascending order, but by making all our values negative we'll end up with the highest probabilities first\n",
    "print(\"Indices sorted by probabilities:\")\n",
    "print(sorted_prediction_ids)\n",
    "# 2 is our first id, and the probability at index 2 from predictions[0] is the highest (0.28140433)"
   ]
  },
  {
   "cell_type": "code",
   "execution_count": 376,
   "id": "fa10275c",
   "metadata": {
    "execution": {
     "iopub.execute_input": "2023-04-18T17:23:04.644510Z",
     "iopub.status.busy": "2023-04-18T17:23:04.643767Z",
     "iopub.status.idle": "2023-04-18T17:23:04.651357Z",
     "shell.execute_reply": "2023-04-18T17:23:04.650397Z"
    },
    "papermill": {
     "duration": 0.018855,
     "end_time": "2023-04-18T17:23:04.653911",
     "exception": false,
     "start_time": "2023-04-18T17:23:04.635056",
     "status": "completed"
    },
    "tags": []
   },
   "outputs": [
    {
     "data": {
      "text/plain": [
       "array([['Zika'],\n",
       "       ['Japanese_encephalitis'],\n",
       "       ['Rift_Valley_fever']], dtype=object)"
      ]
     },
     "execution_count": 376,
     "metadata": {},
     "output_type": "execute_result"
    }
   ],
   "source": [
    "# We can grab the top 3 predictions and then use our encoder to turn them back into string labels\n",
    "top_3_prediction_ids = sorted_prediction_ids[:3]\n",
    "top_3_predictions = enc.inverse_transform(top_3_prediction_ids.reshape(-1, 1)) # inverse_transform expects a 2D array, so we reshape our vector (but this won't be necessary when we run on multiple predictions at once)\n",
    "top_3_predictions\n",
    "# We got a list of 3 predictions! Great!"
   ]
  },
  {
   "cell_type": "markdown",
   "id": "c442f285",
   "metadata": {
    "papermill": {
     "duration": 0.005973,
     "end_time": "2023-04-18T17:23:04.666209",
     "exception": false,
     "start_time": "2023-04-18T17:23:04.660236",
     "status": "completed"
    },
    "tags": []
   },
   "source": [
    "# Generating Top K for all rows"
   ]
  },
  {
   "cell_type": "code",
   "execution_count": 377,
   "id": "d39b9fe6",
   "metadata": {
    "execution": {
     "iopub.execute_input": "2023-04-18T17:23:04.680938Z",
     "iopub.status.busy": "2023-04-18T17:23:04.680149Z",
     "iopub.status.idle": "2023-04-18T17:23:04.689628Z",
     "shell.execute_reply": "2023-04-18T17:23:04.688392Z"
    },
    "papermill": {
     "duration": 0.019594,
     "end_time": "2023-04-18T17:23:04.692037",
     "exception": false,
     "start_time": "2023-04-18T17:23:04.672443",
     "status": "completed"
    },
    "tags": []
   },
   "outputs": [
    {
     "data": {
      "text/plain": [
       "array([['Zika', 'Japanese_encephalitis', 'Rift_Valley_fever'],\n",
       "       ['Malaria', 'Lyme_disease', 'Plague'],\n",
       "       ['Chikungunya', 'Dengue', 'Rift_Valley_fever'],\n",
       "       ['Tungiasis', 'Dengue', 'Rift_Valley_fever'],\n",
       "       ['Malaria', 'Plague', 'Lyme_disease'],\n",
       "       ['Dengue', 'Tungiasis', 'Rift_Valley_fever'],\n",
       "       ['West_Nile_fever', 'Malaria', 'Lyme_disease'],\n",
       "       ['Yellow_Fever', 'Plague', 'Malaria'],\n",
       "       ['Lyme_disease', 'Malaria', 'West_Nile_fever'],\n",
       "       ['Chikungunya', 'Dengue', 'West_Nile_fever']], dtype=object)"
      ]
     },
     "execution_count": 377,
     "metadata": {},
     "output_type": "execute_result"
    }
   ],
   "source": [
    "# Now let's look at doing the above for a whole set of predictions at once:\n",
    "sorted_prediction_ids = np.argsort(-predictions, axis=1)\n",
    "top_3_prediction_ids = sorted_prediction_ids[:,:3]\n",
    "\n",
    "# Because enc.inverse_transform expects a specific shape (a 2D array with 1 column) we can save the original shape to reshape to after decoding\n",
    "original_shape = top_3_prediction_ids.shape\n",
    "top_3_predictions = enc.inverse_transform(top_3_prediction_ids.reshape(-1, 1))\n",
    "top_3_predictions = top_3_predictions.reshape(original_shape)\n",
    "top_3_predictions[:10] # Spot check our first 10 values"
   ]
  },
  {
   "cell_type": "markdown",
   "id": "7cacebc4",
   "metadata": {
    "execution": {
     "iopub.execute_input": "2023-04-16T19:29:12.132644Z",
     "iopub.status.busy": "2023-04-16T19:29:12.132222Z",
     "iopub.status.idle": "2023-04-16T19:29:12.137893Z",
     "shell.execute_reply": "2023-04-16T19:29:12.136636Z",
     "shell.execute_reply.started": "2023-04-16T19:29:12.132609Z"
    },
    "papermill": {
     "duration": 0.00619,
     "end_time": "2023-04-18T17:23:04.704892",
     "exception": false,
     "start_time": "2023-04-18T17:23:04.698702",
     "status": "completed"
    },
    "tags": []
   },
   "source": [
    "## Calculating MAP@K on our validation set\n",
    "So now we have our top K (3) predictions, but what is our MAP@K?\n",
    "To calculate this we'll use the mapk function from the ml_metrics library. The function is pasted below to avoid having to install the package."
   ]
  },
  {
   "cell_type": "code",
   "execution_count": 378,
   "id": "c2befb9c",
   "metadata": {},
   "outputs": [],
   "source": [
    "# Sourced from the ml_metrics package at https://github.com/benhamner/Metrics/blob/master/Python/ml_metrics/average_precision.py\n",
    "import numpy as np\n",
    "\n",
    "def apk(actual, predicted, k=10):\n",
    "    \"\"\"\n",
    "    Computes the average precision at k.\n",
    "    This function computes the average prescision at k between two lists of\n",
    "    items.\n",
    "    Parameters\n",
    "    ----------\n",
    "    actual : list\n",
    "             A list of elements that are to be predicted (order doesn't matter)\n",
    "    predicted : list\n",
    "                A list of predicted elements (order does matter)\n",
    "    k : int, optional\n",
    "        The maximum number of predicted elements\n",
    "    Returns\n",
    "    -------\n",
    "    score : double\n",
    "            The average precision at k over the input lists\n",
    "    \"\"\"\n",
    "    if len(predicted)>k:\n",
    "        predicted = predicted[:k]\n",
    "\n",
    "    score = 0.0\n",
    "    num_hits = 0.0\n",
    "\n",
    "    for i,p in enumerate(predicted):\n",
    "        if p in actual and p not in predicted[:i]:\n",
    "            num_hits += 1.0\n",
    "            score += num_hits / (i+1.0)\n",
    "\n",
    "    if not actual:\n",
    "        return 0.0\n",
    "\n",
    "    return score / min(len(actual), k)\n",
    "\n",
    "def mapk(actual, predicted, k=10):\n",
    "    \"\"\"\n",
    "    Computes the mean average precision at k.\n",
    "    This function computes the mean average prescision at k between two lists\n",
    "    of lists of items.\n",
    "    Parameters\n",
    "    ----------\n",
    "    actual : list\n",
    "             A list of lists of elements that are to be predicted \n",
    "             (order doesn't matter in the lists)\n",
    "    predicted : list\n",
    "                A list of lists of predicted elements\n",
    "                (order matters in the lists)\n",
    "    k : int, optional\n",
    "        The maximum number of predicted elements\n",
    "    Returns\n",
    "    -------\n",
    "    score : double\n",
    "            The mean average precision at k over the input lists\n",
    "    \"\"\"\n",
    "    return np.mean([apk(a,p,k) for a,p in zip(actual, predicted)])"
   ]
  },
  {
   "cell_type": "code",
   "execution_count": 379,
   "id": "87722246",
   "metadata": {
    "execution": {
     "iopub.execute_input": "2023-04-18T17:23:04.747427Z",
     "iopub.status.busy": "2023-04-18T17:23:04.747013Z",
     "iopub.status.idle": "2023-04-18T17:23:04.758210Z",
     "shell.execute_reply": "2023-04-18T17:23:04.757066Z"
    },
    "papermill": {
     "duration": 0.021417,
     "end_time": "2023-04-18T17:23:04.760334",
     "exception": false,
     "start_time": "2023-04-18T17:23:04.738917",
     "status": "completed"
    },
    "tags": []
   },
   "outputs": [
    {
     "data": {
      "text/plain": [
       "0.30696798493408667"
      ]
     },
     "execution_count": 379,
     "metadata": {},
     "output_type": "execute_result"
    }
   ],
   "source": [
    "# Our MAP@K score here is ~0.3456\n",
    "mapk(y_test.values.reshape(-1, 1), top_3_prediction_ids, k=3)"
   ]
  },
  {
   "cell_type": "markdown",
   "id": "6e1b69c0",
   "metadata": {
    "papermill": {
     "duration": 0.006274,
     "end_time": "2023-04-18T17:23:04.773204",
     "exception": false,
     "start_time": "2023-04-18T17:23:04.766930",
     "status": "completed"
    },
    "tags": []
   },
   "source": [
    "# Generating Test Predictions\n"
   ]
  },
  {
   "cell_type": "code",
   "execution_count": 380,
   "id": "3cbb94c8",
   "metadata": {
    "execution": {
     "iopub.execute_input": "2023-04-18T17:23:04.788052Z",
     "iopub.status.busy": "2023-04-18T17:23:04.787619Z",
     "iopub.status.idle": "2023-04-18T17:23:04.828161Z",
     "shell.execute_reply": "2023-04-18T17:23:04.827173Z"
    },
    "papermill": {
     "duration": 0.050756,
     "end_time": "2023-04-18T17:23:04.830469",
     "exception": false,
     "start_time": "2023-04-18T17:23:04.779713",
     "status": "completed"
    },
    "tags": []
   },
   "outputs": [
    {
     "data": {
      "text/html": [
       "<div>\n",
       "<style scoped>\n",
       "    .dataframe tbody tr th:only-of-type {\n",
       "        vertical-align: middle;\n",
       "    }\n",
       "\n",
       "    .dataframe tbody tr th {\n",
       "        vertical-align: top;\n",
       "    }\n",
       "\n",
       "    .dataframe thead th {\n",
       "        text-align: right;\n",
       "    }\n",
       "</style>\n",
       "<table border=\"1\" class=\"dataframe\">\n",
       "  <thead>\n",
       "    <tr style=\"text-align: right;\">\n",
       "      <th></th>\n",
       "      <th>id</th>\n",
       "      <th>sudden_fever</th>\n",
       "      <th>headache</th>\n",
       "      <th>mouth_bleed</th>\n",
       "      <th>nose_bleed</th>\n",
       "      <th>muscle_pain</th>\n",
       "      <th>joint_pain</th>\n",
       "      <th>vomiting</th>\n",
       "      <th>rash</th>\n",
       "      <th>diarrhea</th>\n",
       "      <th>...</th>\n",
       "      <th>lymph_swells</th>\n",
       "      <th>breathing_restriction</th>\n",
       "      <th>toe_inflammation</th>\n",
       "      <th>finger_inflammation</th>\n",
       "      <th>lips_irritation</th>\n",
       "      <th>itchiness</th>\n",
       "      <th>ulcers</th>\n",
       "      <th>toenail_loss</th>\n",
       "      <th>speech_problem</th>\n",
       "      <th>bullseye_rash</th>\n",
       "    </tr>\n",
       "  </thead>\n",
       "  <tbody>\n",
       "    <tr>\n",
       "      <th>0</th>\n",
       "      <td>707</td>\n",
       "      <td>0</td>\n",
       "      <td>0</td>\n",
       "      <td>0</td>\n",
       "      <td>0</td>\n",
       "      <td>0</td>\n",
       "      <td>0</td>\n",
       "      <td>0</td>\n",
       "      <td>0</td>\n",
       "      <td>0</td>\n",
       "      <td>...</td>\n",
       "      <td>0</td>\n",
       "      <td>0</td>\n",
       "      <td>0</td>\n",
       "      <td>0</td>\n",
       "      <td>0</td>\n",
       "      <td>0</td>\n",
       "      <td>0</td>\n",
       "      <td>0</td>\n",
       "      <td>0</td>\n",
       "      <td>0</td>\n",
       "    </tr>\n",
       "    <tr>\n",
       "      <th>1</th>\n",
       "      <td>708</td>\n",
       "      <td>1</td>\n",
       "      <td>1</td>\n",
       "      <td>0</td>\n",
       "      <td>1</td>\n",
       "      <td>0</td>\n",
       "      <td>1</td>\n",
       "      <td>1</td>\n",
       "      <td>1</td>\n",
       "      <td>1</td>\n",
       "      <td>...</td>\n",
       "      <td>0</td>\n",
       "      <td>0</td>\n",
       "      <td>0</td>\n",
       "      <td>0</td>\n",
       "      <td>0</td>\n",
       "      <td>0</td>\n",
       "      <td>0</td>\n",
       "      <td>0</td>\n",
       "      <td>0</td>\n",
       "      <td>0</td>\n",
       "    </tr>\n",
       "    <tr>\n",
       "      <th>2</th>\n",
       "      <td>709</td>\n",
       "      <td>1</td>\n",
       "      <td>1</td>\n",
       "      <td>0</td>\n",
       "      <td>1</td>\n",
       "      <td>1</td>\n",
       "      <td>1</td>\n",
       "      <td>1</td>\n",
       "      <td>0</td>\n",
       "      <td>1</td>\n",
       "      <td>...</td>\n",
       "      <td>0</td>\n",
       "      <td>0</td>\n",
       "      <td>0</td>\n",
       "      <td>0</td>\n",
       "      <td>0</td>\n",
       "      <td>1</td>\n",
       "      <td>0</td>\n",
       "      <td>0</td>\n",
       "      <td>0</td>\n",
       "      <td>0</td>\n",
       "    </tr>\n",
       "    <tr>\n",
       "      <th>3</th>\n",
       "      <td>710</td>\n",
       "      <td>0</td>\n",
       "      <td>1</td>\n",
       "      <td>0</td>\n",
       "      <td>0</td>\n",
       "      <td>0</td>\n",
       "      <td>1</td>\n",
       "      <td>1</td>\n",
       "      <td>1</td>\n",
       "      <td>0</td>\n",
       "      <td>...</td>\n",
       "      <td>0</td>\n",
       "      <td>0</td>\n",
       "      <td>0</td>\n",
       "      <td>0</td>\n",
       "      <td>0</td>\n",
       "      <td>0</td>\n",
       "      <td>0</td>\n",
       "      <td>0</td>\n",
       "      <td>0</td>\n",
       "      <td>0</td>\n",
       "    </tr>\n",
       "    <tr>\n",
       "      <th>4</th>\n",
       "      <td>711</td>\n",
       "      <td>0</td>\n",
       "      <td>0</td>\n",
       "      <td>1</td>\n",
       "      <td>0</td>\n",
       "      <td>1</td>\n",
       "      <td>1</td>\n",
       "      <td>0</td>\n",
       "      <td>0</td>\n",
       "      <td>1</td>\n",
       "      <td>...</td>\n",
       "      <td>0</td>\n",
       "      <td>0</td>\n",
       "      <td>0</td>\n",
       "      <td>0</td>\n",
       "      <td>0</td>\n",
       "      <td>0</td>\n",
       "      <td>0</td>\n",
       "      <td>0</td>\n",
       "      <td>0</td>\n",
       "      <td>0</td>\n",
       "    </tr>\n",
       "  </tbody>\n",
       "</table>\n",
       "<p>5 rows × 65 columns</p>\n",
       "</div>"
      ],
      "text/plain": [
       "    id  sudden_fever  headache  mouth_bleed  nose_bleed  muscle_pain  \\\n",
       "0  707             0         0            0           0            0   \n",
       "1  708             1         1            0           1            0   \n",
       "2  709             1         1            0           1            1   \n",
       "3  710             0         1            0           0            0   \n",
       "4  711             0         0            1           0            1   \n",
       "\n",
       "   joint_pain  vomiting  rash  diarrhea  ...  lymph_swells  \\\n",
       "0           0         0     0         0  ...             0   \n",
       "1           1         1     1         1  ...             0   \n",
       "2           1         1     0         1  ...             0   \n",
       "3           1         1     1         0  ...             0   \n",
       "4           1         0     0         1  ...             0   \n",
       "\n",
       "   breathing_restriction  toe_inflammation  finger_inflammation  \\\n",
       "0                      0                 0                    0   \n",
       "1                      0                 0                    0   \n",
       "2                      0                 0                    0   \n",
       "3                      0                 0                    0   \n",
       "4                      0                 0                    0   \n",
       "\n",
       "   lips_irritation  itchiness  ulcers  toenail_loss  speech_problem  \\\n",
       "0                0          0       0             0               0   \n",
       "1                0          0       0             0               0   \n",
       "2                0          1       0             0               0   \n",
       "3                0          0       0             0               0   \n",
       "4                0          0       0             0               0   \n",
       "\n",
       "   bullseye_rash  \n",
       "0              0  \n",
       "1              0  \n",
       "2              0  \n",
       "3              0  \n",
       "4              0  \n",
       "\n",
       "[5 rows x 65 columns]"
      ]
     },
     "execution_count": 380,
     "metadata": {},
     "output_type": "execute_result"
    }
   ],
   "source": [
    "test_df = pd.read_csv('./Data/enfermedades/test.csv')\n",
    "test_df.head()"
   ]
  },
  {
   "cell_type": "code",
   "execution_count": 381,
   "id": "c74ba9d8",
   "metadata": {
    "execution": {
     "iopub.execute_input": "2023-04-18T17:23:04.846708Z",
     "iopub.status.busy": "2023-04-18T17:23:04.845938Z",
     "iopub.status.idle": "2023-04-18T17:23:04.858075Z",
     "shell.execute_reply": "2023-04-18T17:23:04.856833Z"
    },
    "papermill": {
     "duration": 0.023206,
     "end_time": "2023-04-18T17:23:04.860892",
     "exception": false,
     "start_time": "2023-04-18T17:23:04.837686",
     "status": "completed"
    },
    "tags": []
   },
   "outputs": [
    {
     "data": {
      "text/plain": [
       "array([['Rift_Valley_fever', 'Zika', 'Japanese_encephalitis'],\n",
       "       ['Dengue', 'Chikungunya', 'Rift_Valley_fever'],\n",
       "       ['West_Nile_fever', 'Rift_Valley_fever', 'Tungiasis'],\n",
       "       ['Japanese_encephalitis', 'Yellow_Fever', 'Rift_Valley_fever'],\n",
       "       ['West_Nile_fever', 'Plague', 'Japanese_encephalitis'],\n",
       "       ['Zika', 'Yellow_Fever', 'Plague'],\n",
       "       ['Malaria', 'Japanese_encephalitis', 'Yellow_Fever'],\n",
       "       ['Yellow_Fever', 'Dengue', 'Rift_Valley_fever'],\n",
       "       ['Yellow_Fever', 'Zika', 'Japanese_encephalitis'],\n",
       "       ['Zika', 'Plague', 'Yellow_Fever']], dtype=object)"
      ]
     },
     "execution_count": 381,
     "metadata": {},
     "output_type": "execute_result"
    }
   ],
   "source": [
    "# Make predictions\n",
    "predictions = lr_clf.predict_proba(test_df)\n",
    "\n",
    "# Get the sorted indices of predictions and take the top 3\n",
    "sorted_prediction_ids = np.argsort(-predictions, axis=1)\n",
    "top_3_prediction_ids = sorted_prediction_ids[:,:3]\n",
    "\n",
    "# Because enc.inverse_transform expects a specific shape (a 2D array with 1 column) we can save the original shape to reshape to after decoding\n",
    "original_shape = top_3_prediction_ids.shape\n",
    "top_3_predictions = enc.inverse_transform(top_3_prediction_ids.reshape(-1, 1))\n",
    "top_3_predictions = top_3_predictions.reshape(original_shape)\n",
    "top_3_predictions[:10] # Spot check our first 10 values"
   ]
  },
  {
   "cell_type": "code",
   "execution_count": 382,
   "id": "c128ed2a",
   "metadata": {
    "execution": {
     "iopub.execute_input": "2023-04-18T17:23:04.877659Z",
     "iopub.status.busy": "2023-04-18T17:23:04.876496Z",
     "iopub.status.idle": "2023-04-18T17:23:04.887975Z",
     "shell.execute_reply": "2023-04-18T17:23:04.887059Z"
    },
    "papermill": {
     "duration": 0.022231,
     "end_time": "2023-04-18T17:23:04.890221",
     "exception": false,
     "start_time": "2023-04-18T17:23:04.867990",
     "status": "completed"
    },
    "tags": []
   },
   "outputs": [
    {
     "data": {
      "text/plain": [
       "0         Rift_Valley_fever Zika Japanese_encephalitis\n",
       "1                 Dengue Chikungunya Rift_Valley_fever\n",
       "2          West_Nile_fever Rift_Valley_fever Tungiasis\n",
       "3    Japanese_encephalitis Yellow_Fever Rift_Valley...\n",
       "4         West_Nile_fever Plague Japanese_encephalitis\n",
       "5                             Zika Yellow_Fever Plague\n",
       "6           Malaria Japanese_encephalitis Yellow_Fever\n",
       "7                Yellow_Fever Dengue Rift_Valley_fever\n",
       "8              Yellow_Fever Zika Japanese_encephalitis\n",
       "9                             Zika Plague Yellow_Fever\n",
       "Name: prognosis, dtype: object"
      ]
     },
     "execution_count": 382,
     "metadata": {},
     "output_type": "execute_result"
    }
   ],
   "source": [
    "# Now to get our array of labels into a single column for our submission we can just join on on a space across axis 1\n",
    "test_df['prognosis'] = np.apply_along_axis(lambda x: np.array(' '.join(x), dtype=\"object\"), 1, top_3_predictions)\n",
    "test_df['prognosis'][:10] # Spot check our first 10 values"
   ]
  },
  {
   "cell_type": "code",
   "execution_count": 383,
   "id": "410d4892",
   "metadata": {
    "execution": {
     "iopub.execute_input": "2023-04-18T17:23:04.907611Z",
     "iopub.status.busy": "2023-04-18T17:23:04.906529Z",
     "iopub.status.idle": "2023-04-18T17:23:04.918903Z",
     "shell.execute_reply": "2023-04-18T17:23:04.917745Z"
    },
    "papermill": {
     "duration": 0.023882,
     "end_time": "2023-04-18T17:23:04.921745",
     "exception": false,
     "start_time": "2023-04-18T17:23:04.897863",
     "status": "completed"
    },
    "tags": []
   },
   "outputs": [
    {
     "data": {
      "text/plain": [
       "['./modelos/enfermedades-regression-model.pkl']"
      ]
     },
     "execution_count": 383,
     "metadata": {},
     "output_type": "execute_result"
    }
   ],
   "source": [
    "#test_df.to_csv('submission.csv', columns=['id', 'prognosis'], index=False)\n",
    "joblib.dump(enc,'./encoders/enfermedades-encoder.pkl')\n",
    "joblib.dump(lr_clf,'./modelos/enfermedades-regression-model.pkl')"
   ]
  },
  {
   "cell_type": "code",
   "execution_count": 384,
   "id": "5c0b5ab6",
   "metadata": {},
   "outputs": [
    {
     "name": "stdout",
     "output_type": "stream",
     "text": [
      "id: 0.001437811652981233\n",
      "chills: -0.027130389882745687\n",
      "speech_problem: -0.08175832796469958\n",
      "bullseye_rash: -0.1121411939371994\n",
      "gum_bleed: -0.1137043664652582\n",
      "breathing_restriction: -0.12008118917789878\n",
      "finger_inflammation: -0.12693585705820074\n",
      "lips_irritation: -0.16609191081923605\n",
      "stiff_neck: -0.19950454564881756\n",
      "swelling: -0.21179341200857557\n",
      "myalgia: -0.2158798468837443\n",
      "toe_inflammation: -0.22201589945433192\n",
      "rigor: -0.23316534567207872\n",
      "vomiting: 0.23347558418656747\n",
      "microcephaly: -0.24261443510712472\n",
      "diarrhea: 0.24691998386401406\n",
      "fatigue: -0.2478096498284009\n",
      "hypoglycemia: -0.249416272180911\n",
      "inflammation: -0.25277922614536263\n",
      "convulsion: -0.25687604109162093\n",
      "prostraction: -0.2719473900731455\n",
      "orbital_pain: -0.28060184839052393\n",
      "confusion: -0.2881573383769369\n",
      "pleural_effusion: -0.2953873645336351\n",
      "lymph_swells: -0.2988994994586052\n",
      "paralysis: -0.30348776423842433\n",
      "cocacola_urine: -0.30561543134759145\n",
      "back_pain: -0.31088878137854853\n",
      "tremor: -0.3119030115033647\n",
      "gastro_bleeding: -0.31640861530781833\n",
      "bitter_tongue: -0.31691282277811555\n",
      "digestion_trouble: -0.32486776441881565\n",
      "red_eyes: -0.3372575652124126\n",
      "neck_pain: -0.338197527751893\n",
      "weight_loss: -0.3400196557423094\n",
      "anemia: -0.34711667651872424\n",
      "irritability: -0.35577887304602135\n",
      "headache: 0.3608304493852078\n",
      "mouth_bleed: 0.3756642957405493\n",
      "yellow_eyes: -0.3873562216787121\n",
      "skin_lesions: -0.4061952926535951\n",
      "hyperpyrexia: -0.41060821151730387\n",
      "coma: -0.4139512895694981\n",
      "slow_heart_rate: -0.4376076037525076\n",
      "weakness: -0.4438384884709836\n",
      "joint_pain: 0.44764055620903725\n",
      "diziness: -0.46013069978853105\n",
      "abdominal_pain: -0.4714356827301928\n",
      "rash: 0.4846981657161699\n",
      "jaundice: -0.487024742398296\n",
      "facial_distortion: -0.4877801402122569\n",
      "yellow_skin: -0.4903477011075792\n",
      "ulcers: -0.49675017368192526\n",
      "loss_of_appetite: -0.49897106095173516\n",
      "nose_bleed: 0.5170755184051617\n",
      "toenail_loss: -0.5187218241205541\n",
      "sudden_fever: 0.5320107602349459\n",
      "stomach_pain: -0.5471436652258115\n",
      "muscle_pain: 0.5481814887438978\n",
      "nausea: 0.549716507468178\n",
      "itchiness: -0.6036733028973622\n",
      "light_sensitivity: -0.6169506762835558\n",
      "urination_loss: -0.6357757528399218\n",
      "hypotension: -0.6470832228484078\n",
      "ascites: -0.7926130272218734\n"
     ]
    }
   ],
   "source": [
    "#revisando coeficinetes de las variables\n",
    "# Get the coefficients of the trained model\n",
    "coefficients = lr_clf.coef_[0]\n",
    "\n",
    "# Get the names of the features (variables) in the same order as the coefficients\n",
    "feature_names = X_train.columns\n",
    "\n",
    "# Create a dictionary with feature names as keys and their corresponding coefficients as values\n",
    "coefficients_dict = dict(zip(feature_names, coefficients))\n",
    "\n",
    "# Sort the coefficients in ascending order to find the least important features\n",
    "sorted_coefficients = sorted(coefficients_dict.items(), key=lambda x: abs(x[1]))\n",
    "\n",
    "# Print the feature names and their corresponding coefficients in ascending order\n",
    "for feature, coefficient in sorted_coefficients:\n",
    "    print(f\"{feature}: {coefficient}\")"
   ]
  }
 ],
 "metadata": {
  "kernelspec": {
   "display_name": "Python 3",
   "language": "python",
   "name": "python3"
  },
  "language_info": {
   "codemirror_mode": {
    "name": "ipython",
    "version": 3
   },
   "file_extension": ".py",
   "mimetype": "text/x-python",
   "name": "python",
   "nbconvert_exporter": "python",
   "pygments_lexer": "ipython3",
   "version": "3.10.5"
  },
  "papermill": {
   "default_parameters": {},
   "duration": 12.72506,
   "end_time": "2023-04-18T17:23:05.650944",
   "environment_variables": {},
   "exception": null,
   "input_path": "__notebook__.ipynb",
   "output_path": "__notebook__.ipynb",
   "parameters": {},
   "start_time": "2023-04-18T17:22:52.925884",
   "version": "2.4.0"
  }
 },
 "nbformat": 4,
 "nbformat_minor": 5
}
